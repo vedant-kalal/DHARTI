{
  "nbformat": 4,
  "nbformat_minor": 0,
  "metadata": {
    "colab": {
      "provenance": []
    },
    "kernelspec": {
      "name": "python3",
      "display_name": "Python 3"
    },
    "language_info": {
      "name": "python"
    }
  },
  "cells": [
    {
      "cell_type": "code",
      "source": [],
      "metadata": {
        "id": "efaOrQDEYuE9"
      },
      "execution_count": null,
      "outputs": []
    },
    {
      "cell_type": "code",
      "source": [
        "# Automatically gets job_id from URL - NO MANUAL INPUT!\n",
        "display(Javascript(\"\"\"\n",
        "    const params = new URLSearchParams(window.location.hash.substring(1));\n",
        "    const job_id = params.get('job_id') || '';\n",
        "    const api_base = params.get('api_base') || 'http://localhost:5000';\n",
        "\n",
        "    kernel.execute(`job_id = \"${job_id}\"; api_base = \"${api_base}\"`);\n",
        "\"\"\"))"
      ],
      "metadata": {
        "id": "1IlLhxq3YuKF"
      },
      "execution_count": null,
      "outputs": []
    },
    {
      "cell_type": "code",
      "source": [
        "response = requests.get(f\"{api_base}/api/s2dr3/jobs/{job_id}\")\n",
        "job = response.json()\n",
        "\n",
        "lon = job['lon']\n",
        "lat = job['lat']\n",
        "date = job['date']\n",
        "farm = job['farm']"
      ],
      "metadata": {
        "id": "hqvQy2tnYuMs"
      },
      "execution_count": null,
      "outputs": []
    },
    {
      "cell_type": "code",
      "source": [
        "wheel_url = \"https://storage.googleapis.com/0x7ff601307fa5/s2dr3-20250905.1-cp312-cp312-linux_x86_64.whl\"\n",
        "!pip install -q {wheel_url}"
      ],
      "metadata": {
        "id": "Oni_6hRLYuPs"
      },
      "execution_count": null,
      "outputs": []
    },
    {
      "cell_type": "code",
      "source": [
        "import s2dr3.inferutils\n",
        "\n",
        "# THIS IS THE KEY LINE - Enhances 10m → 1m!\n",
        "lonlat = (lon, lat)\n",
        "s2dr3.inferutils.test(lonlat, date)\n",
        "\n",
        "# Generates 3 enhanced images:\n",
        "# - MS (Multi-Spectral): 10 bands at 1m\n",
        "# - NDVI: Vegetation index at 1m\n",
        "# - TCI (True Color): RGB at 1m"
      ],
      "metadata": {
        "id": "q5a0v1mfZDn0"
      },
      "execution_count": null,
      "outputs": []
    },
    {
      "cell_type": "code",
      "source": [
        "import rasterio\n",
        "from rasterio.mask import mask\n",
        "\n",
        "def clip_to_farm(in_file, out_file, farm_geom):\n",
        "    with rasterio.open(in_file) as src:\n",
        "        out_image, out_transform = mask(src, [farm_geom], crop=True)\n",
        "        # Save only your farm area\n",
        "        with rasterio.open(out_file, \"w\", **meta) as dest:\n",
        "            dest.write(out_image)\n",
        "\n",
        "# Clip all 3 images\n",
        "clip_to_farm(ms_file, \"ms_clipped.tif\", farm)\n",
        "clip_to_farm(ndvi_file, \"ndvi_clipped.tif\", farm)\n",
        "clip_to_farm(tci_file, \"tci_clipped.tif\", farm)"
      ],
      "metadata": {
        "id": "68GIz8i-ZJnU"
      },
      "execution_count": null,
      "outputs": []
    },
    {
      "cell_type": "code",
      "source": [
        "upload_url = f\"{api_base}/api/s2dr3/jobs/{job_id}/upload\"\n",
        "headers = {\"Authorization\": f\"Bearer {upload_token}\"}\n",
        "\n",
        "files = {\n",
        "    'ms': open('ms_clipped.tif', 'rb'),\n",
        "    'ndvi': open('ndvi_clipped.tif', 'rb'),\n",
        "    'tci': open('tci_clipped.tif', 'rb')\n",
        "}\n",
        "\n",
        "response = requests.post(upload_url, headers=headers, files=files)\n",
        "# ✅ Enhanced images now available in DHARTI!"
      ],
      "metadata": {
        "id": "ElG-p4ygZRHN"
      },
      "execution_count": null,
      "outputs": []
    }
  ]
}