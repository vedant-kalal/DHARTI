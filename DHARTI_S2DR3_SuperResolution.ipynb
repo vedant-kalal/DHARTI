{
  "nbformat": 4,
  "nbformat_minor": 0,
  "metadata": {
    "colab": {
      "provenance": [],
      "gpuType": "T4"
    },
    "kernelspec": {
      "name": "python3",
      "display_name": "Python 3"
    },
    "language_info": {
      "name": "python"
    },
    "accelerator": "GPU"
  },
  "cells": [
    {
      "cell_type": "markdown",
      "source": [
        "# 🚀 DHARTI S2DR3 Super-Resolution Pipeline\n",
        "\n",
        "**⚡ ONE-CLICK AUTOMATED EXECUTION ⚡**\n",
        "\n",
        "This notebook automatically runs the complete AI super-resolution pipeline without manual configuration!\n",
        "\n",
        "## What it does:\n",
        "\n",
        "1. **Extracts job parameters** from URL (zero manual input needed!)\n",
        "2. **Downloads S2DR3 model** from Hugging Face\n",
        "3. **Runs 10m → 1m super-resolution** using deep learning\n",
        "4. **Clips to your farm boundary** for precise results\n",
        "5. **Uploads results back to DHARTI** automatically\n",
        "\n",
        "## How to use:\n",
        "\n",
        "1. Click **\"Runtime\" → \"Run all\"** (or press `Ctrl+F9` / `Cmd+F9`)\n",
        "2. Wait 3-5 minutes for processing\n",
        "3. Results appear automatically in DHARTI!\n",
        "\n",
        "> **No configuration needed!** All parameters are extracted from the URL when opened from DHARTI.\n",
        "\n",
        "---\n",
        "\n",
        "## Processing Time\n",
        "\n",
        "- **With GPU (T4)**: ~3 minutes ⚡\n",
        "- **CPU only**: ~8-10 minutes 🐢\n",
        "\n",
        "💡 **Tip**: Go to \"Runtime\" → \"Change runtime type\" → Select \"T4 GPU\" for faster processing!\n",
        "\n",
        "---\n"
      ],
      "metadata": {
        "id": "-g1mklUxcDZk"
      }
    },
    {
      "cell_type": "code",
      "source": [
        "# ============================================================================\n",
        "# 1. AUTO-EXTRACT PARAMETERS FROM URL (ZERO-CLICK CONFIGURATION)\n",
        "# ============================================================================\n",
        "import re\n",
        "import time\n",
        "from IPython.display import HTML, Javascript, display\n",
        "\n",
        "# Try to extract from URL fragment (e.g., #job_id=abc123&api_base=http://...)\n",
        "print(\"🔍 Extracting configuration from URL...\")\n",
        "\n",
        "# Use JavaScript to extract parameters from URL hash\n",
        "display(Javascript(\"\"\"\n",
        "    // Extract parameters from URL fragment\n",
        "    const fragment = window.location.hash.substring(1); // Remove '#'\n",
        "    const params = new URLSearchParams(fragment);\n",
        "\n",
        "    const job_id = params.get('job_id') || '';\n",
        "    const api_base = params.get('api_base') || 'http://localhost:5000';\n",
        "\n",
        "    // Store in notebook metadata so Python can access\n",
        "    if (typeof IPython !== 'undefined' && IPython.notebook) {\n",
        "        IPython.notebook.metadata.job_id = job_id;\n",
        "        IPython.notebook.metadata.api_base = api_base;\n",
        "        console.log('✅ Extracted job_id:', job_id);\n",
        "        console.log('✅ Extracted api_base:', api_base);\n",
        "\n",
        "        // Update the cell output\n",
        "        const kernel = IPython.notebook.kernel;\n",
        "        kernel.execute(`job_id = \"${job_id}\"; api_base = \"${api_base}\"`);\n",
        "    }\n",
        "\"\"\"))\n",
        "\n",
        "# Wait for JavaScript to execute\n",
        "time.sleep(1)\n",
        "\n",
        "# Fallback: try to parse from URL using Python\n",
        "job_id = \"\"\n",
        "api_base = \"http://localhost:5000\"\n",
        "\n",
        "# If JavaScript didn't set it, try manual input\n",
        "if not job_id:\n",
        "    print(\"⚠️  Could not auto-extract job_id from URL.\")\n",
        "    print(\"📋 Please copy the job_id from the DHARTI URL and paste below:\")\n",
        "    print(\"    (Look for: #job_id=YOUR_JOB_ID_HERE)\")\n",
        "    print()\n",
        "    job_id = input(\"Paste job_id here: \").strip()\n",
        "\n",
        "    if not job_id:\n",
        "        raise ValueError(\"❌ job_id is required! Please run the cell again and paste your job_id.\")\n",
        "\n",
        "    # Ask for API base if needed\n",
        "    custom_api = input(f\"API base URL (press Enter for {api_base}): \").strip()\n",
        "    if custom_api:\n",
        "        api_base = custom_api\n",
        "\n",
        "print(f\"\\n✅ Configuration loaded:\")\n",
        "print(f\"   Job ID: {job_id}\")\n",
        "print(f\"   API Base: {api_base}\")\n",
        "print(f\"\\n🚀 Proceeding with automated processing...\")\n",
        "print(f\"   (This will take 3-5 minutes)\\n\")\n"
      ],
      "metadata": {
        "id": "ml9MwhQ7cWUM"
      },
      "execution_count": null,
      "outputs": []
    },
    {
      "cell_type": "code",
      "source": [
        "# ============================================================================\n",
        "# 2. FETCH JOB PARAMETERS FROM DHARTI\n",
        "# ============================================================================\n",
        "import requests\n",
        "import json\n",
        "\n",
        "if not job_id:\n",
        "    raise ValueError(\"❌ Job ID not set! Please fill in the configuration cell above.\")\n",
        "\n",
        "print(\"📡 Fetching job parameters...\")\n",
        "response = requests.get(f\"{api_base}/api/s2dr3/jobs/{job_id}\")\n",
        "\n",
        "if response.status_code != 200:\n",
        "    raise Exception(f\"❌ Failed to fetch job: {response.text}\")\n",
        "\n",
        "job = response.json()\n",
        "\n",
        "lon = job['lon']\n",
        "lat = job['lat']\n",
        "date = job['date']\n",
        "farm = job['farm']\n",
        "upload_token = job.get('upload_token', job_id)  # Fallback to job_id\n",
        "\n",
        "print(f\"✅ Job loaded successfully!\")\n",
        "print(f\"   📍 Location: ({lat:.4f}, {lon:.4f})\")\n",
        "print(f\"   📅 Date: {date}\")\n",
        "print(f\"   🔒 Upload token: {upload_token[:8]}...\")\n",
        "print()\n"
      ],
      "metadata": {
        "id": "hqvQy2tnYuMs"
      },
      "execution_count": null,
      "outputs": []
    },
    {
      "cell_type": "code",
      "source": [
        "#@title 🛠️ Step 2: Install S2DR3 Wheel\n",
        "import subprocess\n",
        "\n",
        "wheel_url = \"https://storage.googleapis.com/0x7ff601307fa5/s2dr3-20250905.1-cp312-cp312-linux_x86_64.whl\"\n",
        "\n",
        "print(\"📦 Installing S2DR3 (Gamma Earth)...\")\n",
        "print(\"   This may take 1-2 minutes...\\n\")\n",
        "\n",
        "!pip install -q {wheel_url}\n",
        "\n",
        "print(\"\\n✅ S2DR3 installed successfully!\")"
      ],
      "metadata": {
        "id": "Oni_6hRLYuPs"
      },
      "execution_count": null,
      "outputs": []
    },
    {
      "cell_type": "code",
      "source": [
        "import s2dr3.inferutils\n",
        "\n",
        "# THIS IS THE KEY LINE - Enhances 10m → 1m!\n",
        "lonlat = (lon, lat)\n",
        "s2dr3.inferutils.test(lonlat, date)\n",
        "\n",
        "# Generates 3 enhanced images:\n",
        "# - MS (Multi-Spectral): 10 bands at 1m\n",
        "# - NDVI: Vegetation index at 1m\n",
        "# - TCI (True Color): RGB at 1m"
      ],
      "metadata": {
        "id": "q5a0v1mfZDn0"
      },
      "execution_count": null,
      "outputs": []
    },
    {
      "cell_type": "code",
      "source": [
        "import rasterio\n",
        "from rasterio.mask import mask\n",
        "\n",
        "def clip_to_farm(in_file, out_file, farm_geom):\n",
        "    with rasterio.open(in_file) as src:\n",
        "        out_image, out_transform = mask(src, [farm_geom], crop=True)\n",
        "        # Save only your farm area\n",
        "        with rasterio.open(out_file, \"w\", **meta) as dest:\n",
        "            dest.write(out_image)\n",
        "\n",
        "# Clip all 3 images\n",
        "clip_to_farm(ms_file, \"ms_clipped.tif\", farm)\n",
        "clip_to_farm(ndvi_file, \"ndvi_clipped.tif\", farm)\n",
        "clip_to_farm(tci_file, \"tci_clipped.tif\", farm)"
      ],
      "metadata": {
        "id": "68GIz8i-ZJnU"
      },
      "execution_count": null,
      "outputs": []
    },
    {
      "cell_type": "code",
      "source": [
        "upload_url = f\"{api_base}/api/s2dr3/jobs/{job_id}/upload\"\n",
        "headers = {\"Authorization\": f\"Bearer {upload_token}\"}\n",
        "\n",
        "files = {\n",
        "    'ms': open('ms_clipped.tif', 'rb'),\n",
        "    'ndvi': open('ndvi_clipped.tif', 'rb'),\n",
        "    'tci': open('tci_clipped.tif', 'rb')\n",
        "}\n",
        "\n",
        "response = requests.post(upload_url, headers=headers, files=files)\n",
        "# ✅ Enhanced images now available in DHARTI!"
      ],
      "metadata": {
        "id": "ElG-p4ygZRHN"
      },
      "execution_count": null,
      "outputs": []
    }
  ]
}